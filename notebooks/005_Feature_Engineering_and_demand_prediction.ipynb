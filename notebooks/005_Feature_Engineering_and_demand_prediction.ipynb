{
 "cells": [
  {
   "cell_type": "markdown",
   "id": "4f3cae63",
   "metadata": {
    "id": "rt8zubbPiCUt"
   },
   "source": [
    "# Step 5: Feature Engineering & Data Preparation"
   ]
  },
  {
   "cell_type": "code",
   "execution_count": null,
   "id": "e2d1eedb",
   "metadata": {
    "colab": {
     "base_uri": "https://localhost:8080/"
    },
    "id": "cXlX6GYPLo-h",
    "outputId": "b19aa6bb-3426-4076-8387-1f60c92d642c"
   },
   "outputs": [
    {
     "name": "stdout",
     "output_type": "stream",
     "text": [
      "Missing Columns: ['availability_6:00-22:00', 'availability_9:00-18:00', 'charger_type_AC Level 1', 'charger_type_AC Level 2', 'charger_type_DC Fast Charger']\n"
     ]
    }
   ],
   "source": [
    "# Checking for missing columns\n",
    "missing_features = ['availability_6:00-22:00', 'availability_9:00-18:00',\n",
    "                    'charger_type_AC Level 1', 'charger_type_AC Level 2', 'charger_type_DC Fast Charger']\n",
    "missing_in_df = [col for col in missing_features if col not in df_cleaned.columns]\n",
    "\n",
    "print(\"Missing Columns:\", missing_in_df)\n"
   ]
  },
  {
   "cell_type": "code",
   "execution_count": null,
   "id": "1a3d73ae",
   "metadata": {
    "colab": {
     "base_uri": "https://localhost:8080/"
    },
    "id": "vYlcPM8ZLrnx",
    "outputId": "8d396ae3-fc70-4861-b940-0b73b69d5221"
   },
   "outputs": [
    {
     "name": "stdout",
     "output_type": "stream",
     "text": [
      "Missing Columns After Encoding: []\n"
     ]
    }
   ],
   "source": [
    "# Reapplying One-Hot Encoding\n",
    "df_cleaned = pd.get_dummies(df_cleaned, columns=['availability', 'charger_type'], prefix=['availability', 'charger_type'])\n",
    "\n",
    "# Re-checking missing features beofre heading towards Feature engineering\n",
    "missing_in_df = [col for col in missing_features if col not in df_cleaned.columns]\n",
    "print(\"Missing Columns After Encoding:\", missing_in_df)\n"
   ]
  },
  {
   "cell_type": "code",
   "execution_count": null,
   "id": "104cd147",
   "metadata": {
    "colab": {
     "base_uri": "https://localhost:8080/"
    },
    "id": "9fz-EVxqiHcU",
    "outputId": "ffb0b0b1-ad6b-4536-c9fd-826f2b57e036"
   },
   "outputs": [
    {
     "name": "stdout",
     "output_type": "stream",
     "text": [
      "Data Preprocessing Complete!\n",
      "Training Samples: 3016, Testing Samples: 754\n"
     ]
    }
   ],
   "source": [
    "from sklearn.model_selection import train_test_split\n",
    "from sklearn.preprocessing import MinMaxScaler\n",
    "\n",
    "# Fxn to prepare data for demand prediction by selecting features, encoding categories, and normalizing data.\n",
    "\n",
    "def preprocess_demand_data(df):\n",
    "\n",
    "    # 1. Selecting Predictor Variables\n",
    "    features = [\n",
    "        \"cost_usd_per_kwh\",\n",
    "        \"distance_to_city_km\",\n",
    "        \"parking_spots\",\n",
    "        \"availability_6:00-22:00\",  # Encoded availability hours\n",
    "        \"availability_9:00-18:00\",  # Encoded availability hours\n",
    "        \"renewable_energy_source\",\n",
    "        \"charger_type_AC Level 1\",\n",
    "        \"charger_type_AC Level 2\",\n",
    "        \"charger_type_DC Fast Charger\"\n",
    "    ]\n",
    "\n",
    "    target = \"usage_stats_avg_users_per_day\"  # Predicting demand\n",
    "\n",
    "    # 2. Ensuring All Features Exist\n",
    "    missing_features = [col for col in features if col not in df.columns]\n",
    "    if missing_features:\n",
    "        print(f\"ERROR: Missing required features in df_cleaned: {missing_features}\")\n",
    "        return None, None, None, None\n",
    "\n",
    "    # 3. Normalizing Numerical Features\n",
    "    scaler = MinMaxScaler()\n",
    "    df[[\"cost_usd_per_kwh\", \"distance_to_city_km\", \"parking_spots\"]] = scaler.fit_transform(\n",
    "        df[[\"cost_usd_per_kwh\", \"distance_to_city_km\", \"parking_spots\"]]\n",
    "    )\n",
    "\n",
    "    # 4. Train-Test Split (80:20)\n",
    "    X = df[features]\n",
    "    y = df[target]\n",
    "\n",
    "    X_train, X_test, y_train, y_test = train_test_split(X, y, test_size=0.2, random_state=42)\n",
    "\n",
    "    print(\"Data Preprocessing Complete!\")\n",
    "    print(f\"Training Samples: {len(X_train)}, Testing Samples: {len(X_test)}\")\n",
    "\n",
    "    return X_train, X_test, y_train, y_test\n",
    "\n",
    "# Running data preprocessing\n",
    "X_train, X_test, y_train, y_test = preprocess_demand_data(df_cleaned)\n"
   ]
  }
 ],
 "metadata": {},
 "nbformat": 4,
 "nbformat_minor": 5
}
