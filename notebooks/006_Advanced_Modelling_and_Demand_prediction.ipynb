{
 "cells": [
  {
   "cell_type": "markdown",
   "id": "6c9e65e2",
   "metadata": {
    "id": "4m_Bt5ydlffj"
   },
   "source": [
    "# Step 6: Train a Demand Prediction Model"
   ]
  },
  {
   "cell_type": "markdown",
   "id": "c982d994",
   "metadata": {
    "id": "F4B2QIxztQmN"
   },
   "source": [
    "## 6.1 Train a Linear Regression Model"
   ]
  },
  {
   "cell_type": "code",
   "execution_count": null,
   "id": "602b4048",
   "metadata": {
    "colab": {
     "base_uri": "https://localhost:8080/"
    },
    "id": "2HBjHEJVOFCH",
    "outputId": "8f319dfb-1575-4fdf-ab1e-1ee6c621e5de"
   },
   "outputs": [
    {
     "name": "stdout",
     "output_type": "stream",
     "text": [
      "int64\n",
      "[1 0]\n"
     ]
    }
   ],
   "source": [
    "# 1. Converting column to a new Series to fully detach from category type\n",
    "df_cleaned['renewable_energy_source'] = df_cleaned['renewable_energy_source'].astype(str).copy()\n",
    "\n",
    "# 2. Ensurign 'Yes' and 'No' are replaced properly\n",
    "df_cleaned['renewable_energy_source'] = df_cleaned['renewable_energy_source'].map({'Yes': 1, 'No': 0})\n",
    "\n",
    "# 3. Converting to numeric, forcing any unexpected values to NaN\n",
    "df_cleaned['renewable_energy_source'] = pd.to_numeric(df_cleaned['renewable_energy_source'], errors='coerce')\n",
    "\n",
    "# 4. Filling NaN values and converting to int\n",
    "df_cleaned['renewable_energy_source'] = df_cleaned['renewable_energy_source'].fillna(0).astype(int)\n",
    "\n",
    "# Final Check\n",
    "print(df_cleaned['renewable_energy_source'].dtype)  # Should be int64\n",
    "print(df_cleaned['renewable_energy_source'].unique())  # Should be [0, 1]\n"
   ]
  },
  {
   "cell_type": "code",
   "execution_count": null,
   "id": "6d5417f0",
   "metadata": {
    "id": "qi8DxpqaO6oq"
   },
   "outputs": [],
   "source": [
    "# Ensuring all columns are numeric\n",
    "X_train = X_train.apply(pd.to_numeric, errors='coerce')\n",
    "X_test = X_test.apply(pd.to_numeric, errors='coerce')\n",
    "\n",
    "# Filingl any NaN values that might have been introduced\n",
    "X_train.fillna(0, inplace=True)\n",
    "X_test.fillna(0, inplace=True)\n"
   ]
  },
  {
   "cell_type": "code",
   "execution_count": null,
   "id": "4d0c7332",
   "metadata": {
    "colab": {
     "base_uri": "https://localhost:8080/"
    },
    "id": "lJZekNwWljeE",
    "outputId": "31ecea5c-4382-40e5-a368-814cb079539f"
   },
   "outputs": [
    {
     "name": "stdout",
     "output_type": "stream",
     "text": [
      "Linear Regression Model Performance:\n",
      "R² Score: -0.0080\n",
      "Mean Absolute Error (MAE): 0.2523\n",
      "Root Mean Squared Error (RMSE): 0.2928\n"
     ]
    }
   ],
   "source": [
    "from sklearn.linear_model import LinearRegression\n",
    "from sklearn.metrics import mean_absolute_error, mean_squared_error, r2_score\n",
    "import numpy as np\n",
    "\n",
    "# Trainning a Linear Regression Model\n",
    "lr_model = LinearRegression()\n",
    "lr_model.fit(X_train, y_train)\n",
    "\n",
    "# Predicting on test set\n",
    "y_pred_lr = lr_model.predict(X_test)\n",
    "\n",
    "# Evaluating the model\n",
    "r2_lr = r2_score(y_test, y_pred_lr)\n",
    "mae_lr = mean_absolute_error(y_test, y_pred_lr)\n",
    "rmse_lr = np.sqrt(mean_squared_error(y_test, y_pred_lr))\n",
    "\n",
    "print(\"Linear Regression Model Performance:\")\n",
    "print(f\"R² Score: {r2_lr:.4f}\")\n",
    "print(f\"Mean Absolute Error (MAE): {mae_lr:.4f}\")\n",
    "print(f\"Root Mean Squared Error (RMSE): {rmse_lr:.4f}\")\n",
    "\n"
   ]
  },
  {
   "cell_type": "markdown",
   "id": "0c9e8ba6",
   "metadata": {
    "id": "V6BYq38dtYjl"
   },
   "source": [
    "## 6.2 Train an XGBoost Model"
   ]
  },
  {
   "cell_type": "code",
   "execution_count": null,
   "id": "ee6c3d46",
   "metadata": {
    "colab": {
     "base_uri": "https://localhost:8080/"
    },
    "id": "7NS5NrAEmVQ5",
    "outputId": "b5ce2773-9c86-4e7d-d2d4-cca7a98d0071"
   },
   "outputs": [
    {
     "name": "stdout",
     "output_type": "stream",
     "text": [
      "\n",
      "XGBoost Model Performance:\n",
      "R² Score: -0.1421\n",
      "Mean Absolute Error (MAE): 0.2658\n",
      "Root Mean Squared Error (RMSE): 0.3117\n"
     ]
    }
   ],
   "source": [
    "from xgboost import XGBRegressor\n",
    "\n",
    "# Trainning an XGBoost Model\n",
    "xgb_model = XGBRegressor(n_estimators=100, learning_rate=0.1, random_state=42)\n",
    "xgb_model.fit(X_train, y_train)\n",
    "\n",
    "# Predicting on test set\n",
    "y_pred_xgb = xgb_model.predict(X_test)\n",
    "\n",
    "# Evaluating the model\n",
    "r2_xgb = r2_score(y_test, y_pred_xgb)\n",
    "mae_xgb = mean_absolute_error(y_test, y_pred_xgb)\n",
    "rmse_xgb = np.sqrt(mean_squared_error(y_test, y_pred_xgb))\n",
    "\n",
    "print(\"\\nXGBoost Model Performance:\")\n",
    "print(f\"R² Score: {r2_xgb:.4f}\")\n",
    "print(f\"Mean Absolute Error (MAE): {mae_xgb:.4f}\")\n",
    "print(f\"Root Mean Squared Error (RMSE): {rmse_xgb:.4f}\")\n"
   ]
  },
  {
   "cell_type": "markdown",
   "id": "9093a956",
   "metadata": {
    "id": "Vk51yyuXtbmz"
   },
   "source": [
    "## 6.3 Train a Random Forest Model"
   ]
  },
  {
   "cell_type": "code",
   "execution_count": null,
   "id": "07c38b5f",
   "metadata": {
    "colab": {
     "base_uri": "https://localhost:8080/"
    },
    "id": "tp_jTeG6mXTn",
    "outputId": "c04ae29a-fcd0-4caa-8edf-ca24dcee44c0"
   },
   "outputs": [
    {
     "name": "stdout",
     "output_type": "stream",
     "text": [
      "\n",
      "Random Forest Model Performance:\n",
      "R² Score: -0.1029\n",
      "Mean Absolute Error (MAE): 0.2615\n",
      "Root Mean Squared Error (RMSE): 0.3063\n"
     ]
    }
   ],
   "source": [
    "from sklearn.ensemble import RandomForestRegressor\n",
    "\n",
    "# Trainning a Random Forest Model\n",
    "rf_model = RandomForestRegressor(n_estimators=100, random_state=42)\n",
    "rf_model.fit(X_train, y_train)\n",
    "\n",
    "# Predicting on test set\n",
    "y_pred_rf = rf_model.predict(X_test)\n",
    "\n",
    "# Evaluating the model\n",
    "r2_rf = r2_score(y_test, y_pred_rf)\n",
    "mae_rf = mean_absolute_error(y_test, y_pred_rf)\n",
    "rmse_rf = np.sqrt(mean_squared_error(y_test, y_pred_rf))\n",
    "\n",
    "print(\"\\nRandom Forest Model Performance:\")\n",
    "print(f\"R² Score: {r2_rf:.4f}\")\n",
    "print(f\"Mean Absolute Error (MAE): {mae_rf:.4f}\")\n",
    "print(f\"Root Mean Squared Error (RMSE): {rmse_rf:.4f}\")\n"
   ]
  },
  {
   "cell_type": "markdown",
   "id": "0d85bb71",
   "metadata": {
    "id": "pa7ocJqftebk"
   },
   "source": [
    "## 6.4 Hyperparameter Tuning with GridSearchCV"
   ]
  },
  {
   "cell_type": "code",
   "execution_count": null,
   "id": "93633fa1",
   "metadata": {
    "colab": {
     "base_uri": "https://localhost:8080/"
    },
    "id": "jo2Sfk27manm",
    "outputId": "54c19c76-2cf8-4098-e4bf-5933c81589fc"
   },
   "outputs": [
    {
     "name": "stdout",
     "output_type": "stream",
     "text": [
      "\n",
      "Best XGBoost Model (After Hyperparameter Tuning):\n",
      "Best Parameters: {'learning_rate': 0.01, 'max_depth': 3, 'n_estimators': 50}\n",
      "R² Score: -0.0034\n",
      "Mean Absolute Error (MAE): 0.2520\n",
      "Root Mean Squared Error (RMSE): 0.2922\n"
     ]
    }
   ],
   "source": [
    "from sklearn.model_selection import GridSearchCV\n",
    "\n",
    "# Defining hyperparameter grid\n",
    "param_grid = {\n",
    "    'n_estimators': [50, 100, 200],\n",
    "    'learning_rate': [0.01, 0.1, 0.2],\n",
    "    'max_depth': [3, 5, 7]\n",
    "}\n",
    "\n",
    "# Performing GridSearchCV\n",
    "grid_search = GridSearchCV(XGBRegressor(random_state=42), param_grid, cv=3, scoring='r2', n_jobs=-1)\n",
    "grid_search.fit(X_train, y_train)\n",
    "\n",
    "# Getting the best parameters\n",
    "best_params = grid_search.best_params_\n",
    "best_model = grid_search.best_estimator_\n",
    "\n",
    "# Predicting on test set\n",
    "y_pred_best = best_model.predict(X_test)\n",
    "\n",
    "# Evaluating best model\n",
    "r2_best = r2_score(y_test, y_pred_best)\n",
    "mae_best = mean_absolute_error(y_test, y_pred_best)\n",
    "rmse_best = np.sqrt(mean_squared_error(y_test, y_pred_best))\n",
    "\n",
    "print(\"\\nBest XGBoost Model (After Hyperparameter Tuning):\")\n",
    "print(f\"Best Parameters: {best_params}\")\n",
    "print(f\"R² Score: {r2_best:.4f}\")\n",
    "print(f\"Mean Absolute Error (MAE): {mae_best:.4f}\")\n",
    "print(f\"Root Mean Squared Error (RMSE): {rmse_best:.4f}\")\n"
   ]
  },
  {
   "cell_type": "markdown",
   "id": "c8d56e2e",
   "metadata": {
    "id": "pOxdzw5ktj5E"
   },
   "source": [
    "##  Demand-Based Clustering & Classification"
   ]
  },
  {
   "cell_type": "markdown",
   "id": "162304c6",
   "metadata": {
    "id": "UUbDde2WtlaM"
   },
   "source": [
    "## 6.5 Create Demand-Based Clusters Using K-Means"
   ]
  },
  {
   "cell_type": "code",
   "execution_count": null,
   "id": "89f5ad91",
   "metadata": {
    "colab": {
     "base_uri": "https://localhost:8080/"
    },
    "id": "xL3nI53Vnb62",
    "outputId": "71a5e809-ee81-4bb2-dc0a-4f45c0e16409"
   },
   "outputs": [
    {
     "name": "stdout",
     "output_type": "stream",
     "text": [
      "Demand Cluster Distribution:\n",
      "demand_cluster\n",
      "11    288\n",
      "5     277\n",
      "1     274\n",
      "0     270\n",
      "14    261\n",
      "7     255\n",
      "3     255\n",
      "13    251\n",
      "8     249\n",
      "12    247\n",
      "2     246\n",
      "10    229\n",
      "4     228\n",
      "9     225\n",
      "6     215\n",
      "Name: count, dtype: int64\n"
     ]
    }
   ],
   "source": [
    "from sklearn.cluster import KMeans\n",
    "from sklearn.preprocessing import StandardScaler\n",
    "\n",
    "# Selecting demand-related features\n",
    "demand_features = df_cleaned[[\n",
    "    \"usage_stats_avg_users_per_day\",\n",
    "    \"cost_usd_per_kwh\",\n",
    "    \"distance_to_city_km\",\n",
    "    \"parking_spots\"\n",
    "]]\n",
    "\n",
    "# Normalizing features\n",
    "scaler = StandardScaler()\n",
    "demand_features_scaled = scaler.fit_transform(demand_features)\n",
    "\n",
    "# Fitting K-Means clustering (15 demand clusters)\n",
    "kmeans_demand = KMeans(n_clusters=15, random_state=42, n_init=10)\n",
    "df_cleaned[\"demand_cluster\"] = kmeans_demand.fit_predict(demand_features_scaled)\n",
    "\n",
    "# Check the distribution of demand clusters\n",
    "print(\"Demand Cluster Distribution:\")\n",
    "print(df_cleaned[\"demand_cluster\"].value_counts())\n"
   ]
  },
  {
   "cell_type": "markdown",
   "id": "b553b8d4",
   "metadata": {
    "id": "N4sR6CsGttg5"
   },
   "source": [
    "## 6.6 Train a Random Forest Classifier"
   ]
  },
  {
   "cell_type": "code",
   "execution_count": null,
   "id": "0d9ffe5c",
   "metadata": {
    "colab": {
     "base_uri": "https://localhost:8080/"
    },
    "id": "HWtXjtDpneMN",
    "outputId": "a4425b34-3da7-4ccd-da72-03dbce0cad8d"
   },
   "outputs": [
    {
     "name": "stdout",
     "output_type": "stream",
     "text": [
      "\n",
      "Random Forest Classification Performance:\n",
      "Accuracy: 0.5133\n",
      "\n",
      "Classification Report:\n",
      "               precision    recall  f1-score   support\n",
      "\n",
      "           0       0.54      0.82      0.65        56\n",
      "           1       0.49      0.50      0.50        52\n",
      "           2       0.56      0.57      0.57        49\n",
      "           3       0.51      0.55      0.53        47\n",
      "           4       0.61      0.48      0.54        52\n",
      "           5       0.42      0.46      0.44        48\n",
      "           6       0.35      0.34      0.35        41\n",
      "           7       0.39      0.18      0.24        51\n",
      "           8       0.46      0.62      0.53        42\n",
      "           9       0.43      0.49      0.46        37\n",
      "          10       0.44      0.39      0.41        49\n",
      "          11       0.63      0.86      0.73        58\n",
      "          12       0.43      0.45      0.44        47\n",
      "          13       0.68      0.41      0.51        68\n",
      "          14       0.59      0.51      0.55        57\n",
      "\n",
      "    accuracy                           0.51       754\n",
      "   macro avg       0.50      0.51      0.50       754\n",
      "weighted avg       0.51      0.51      0.50       754\n",
      "\n"
     ]
    }
   ],
   "source": [
    "from sklearn.ensemble import RandomForestClassifier\n",
    "from sklearn.model_selection import train_test_split\n",
    "from sklearn.metrics import accuracy_score, classification_report\n",
    "\n",
    "# Defining features for classification\n",
    "selected_features = [\n",
    "    \"cost_usd_per_kwh\",\n",
    "    \"distance_to_city_km\",\n",
    "    \"parking_spots\",\n",
    "    \"charging_capacity_kw\",\n",
    "    \"reviews_rating\"\n",
    "]\n",
    "\n",
    "# Features (X) & Target (y)\n",
    "X_class = df_cleaned[selected_features]\n",
    "y_class = df_cleaned[\"demand_cluster\"]\n",
    "\n",
    "# Train-Test Split (80:20)\n",
    "X_train_class, X_test_class, y_train_class, y_test_class = train_test_split(\n",
    "    X_class, y_class, test_size=0.2, random_state=42\n",
    ")\n",
    "\n",
    "# Training Random Forest Classifier\n",
    "rf_classifier = RandomForestClassifier(n_estimators=100, max_depth=10, random_state=42)\n",
    "rf_classifier.fit(X_train_class, y_train_class)\n",
    "\n",
    "# Predictions\n",
    "y_pred_class = rf_classifier.predict(X_test_class)\n",
    "\n",
    "# Model Evaluation\n",
    "accuracy = accuracy_score(y_test_class, y_pred_class)\n",
    "print(\"\\nRandom Forest Classification Performance:\")\n",
    "print(f\"Accuracy: {accuracy:.4f}\")\n",
    "print(\"\\nClassification Report:\\n\", classification_report(y_test_class, y_pred_class))\n"
   ]
  },
  {
   "cell_type": "code",
   "execution_count": null,
   "id": "6acb90fc",
   "metadata": {
    "colab": {
     "base_uri": "https://localhost:8080/"
    },
    "id": "MQ3_FtR0A0jt",
    "outputId": "d23029b1-deee-4acb-9303-c7b938b997b9"
   },
   "outputs": [
    {
     "name": "stdout",
     "output_type": "stream",
     "text": [
      "\n",
      "RF-Based Demand Classification Model Performance:\n",
      "R^2 Score: 0.3314\n",
      "Mean Squared Error (MSE): 13.53\n",
      "Mean Absolute Error (MAE): 2.12\n",
      "Root Mean Squared Error (RMSE): 3.68\n"
     ]
    }
   ],
   "source": [
    "from sklearn.metrics import r2_score, mean_squared_error, mean_absolute_error\n",
    "\n",
    "# 1. Evaluate RF Classification Model\n",
    "\n",
    "# Calculating R^2 score (since we are classifying demand clusters, we treat them as ordinal values)\n",
    "r2_class = r2_score(y_test_class, y_pred_class)\n",
    "\n",
    "# Calculating Scores\n",
    "mse_class = mean_squared_error(y_test_class, y_pred_class)\n",
    "mae_class = mean_absolute_error(y_test_class, y_pred_class)\n",
    "rmse_class = np.sqrt(mse_class)\n",
    "\n",
    "# Display results\n",
    "print(\"\\nRF-Based Demand Classification Model Performance:\")\n",
    "print(f\"R^2 Score: {r2_class:.4f}\")\n",
    "print(f\"Mean Squared Error (MSE): {mse_class:.2f}\")\n",
    "print(f\"Mean Absolute Error (MAE): {mae_class:.2f}\")\n",
    "print(f\"Root Mean Squared Error (RMSE): {rmse_class:.2f}\")\n"
   ]
  },
  {
   "cell_type": "markdown",
   "id": "e2c91da1",
   "metadata": {
    "id": "8ooah5yYtxwH"
   },
   "source": [
    "## 6.7 Analyze Demand Clusters"
   ]
  },
  {
   "cell_type": "code",
   "execution_count": null,
   "id": "747c1f66",
   "metadata": {
    "colab": {
     "base_uri": "https://localhost:8080/",
     "height": 520
    },
    "id": "QpZ7UiZ9PpV6",
    "outputId": "2a292bce-dd3a-483c-924b-d8004a3708d0"
   },
   "outputs": [
    {
     "data": {
      "application/vnd.google.colaboratory.intrinsic+json": {
       "summary": "{\n  \"name\": \"demand_cluster_counts\",\n  \"rows\": 15,\n  \"fields\": [\n    {\n      \"column\": \"demand_cluster\",\n      \"properties\": {\n        \"dtype\": \"int32\",\n        \"num_unique_values\": 15,\n        \"samples\": [\n          12,\n          10,\n          11\n        ],\n        \"semantic_type\": \"\",\n        \"description\": \"\"\n      }\n    },\n    {\n      \"column\": \"station_count\",\n      \"properties\": {\n        \"dtype\": \"number\",\n        \"std\": 20,\n        \"min\": 215,\n        \"max\": 288,\n        \"num_unique_values\": 14,\n        \"samples\": [\n          246,\n          228,\n          288\n        ],\n        \"semantic_type\": \"\",\n        \"description\": \"\"\n      }\n    },\n    {\n      \"column\": \"city\",\n      \"properties\": {\n        \"dtype\": \"string\",\n        \"num_unique_values\": 15,\n        \"samples\": [\n          \"Beijing\",\n          \"Moscow\",\n          \"Dubai\"\n        ],\n        \"semantic_type\": \"\",\n        \"description\": \"\"\n      }\n    }\n  ]\n}",
       "type": "dataframe",
       "variable_name": "demand_cluster_counts"
      },
      "text/html": [
       "\n",
       "  <div id=\"df-6f312699-52d0-4d4d-8a28-42934549c57e\" class=\"colab-df-container\">\n",
       "    <div>\n",
       "<style scoped>\n",
       "    .dataframe tbody tr th:only-of-type {\n",
       "        vertical-align: middle;\n",
       "    }\n",
       "\n",
       "    .dataframe tbody tr th {\n",
       "        vertical-align: top;\n",
       "    }\n",
       "\n",
       "    .dataframe thead th {\n",
       "        text-align: right;\n",
       "    }\n",
       "</style>\n",
       "<table border=\"1\" class=\"dataframe\">\n",
       "  <thead>\n",
       "    <tr style=\"text-align: right;\">\n",
       "      <th></th>\n",
       "      <th>demand_cluster</th>\n",
       "      <th>station_count</th>\n",
       "      <th>city</th>\n",
       "    </tr>\n",
       "  </thead>\n",
       "  <tbody>\n",
       "    <tr>\n",
       "      <th>0</th>\n",
       "      <td>11</td>\n",
       "      <td>288</td>\n",
       "      <td>Dubai</td>\n",
       "    </tr>\n",
       "    <tr>\n",
       "      <th>1</th>\n",
       "      <td>5</td>\n",
       "      <td>277</td>\n",
       "      <td>Mexico City</td>\n",
       "    </tr>\n",
       "    <tr>\n",
       "      <th>2</th>\n",
       "      <td>1</td>\n",
       "      <td>274</td>\n",
       "      <td>Seoul</td>\n",
       "    </tr>\n",
       "    <tr>\n",
       "      <th>3</th>\n",
       "      <td>0</td>\n",
       "      <td>270</td>\n",
       "      <td>Chicago</td>\n",
       "    </tr>\n",
       "    <tr>\n",
       "      <th>4</th>\n",
       "      <td>14</td>\n",
       "      <td>261</td>\n",
       "      <td>San Francisco</td>\n",
       "    </tr>\n",
       "    <tr>\n",
       "      <th>5</th>\n",
       "      <td>7</td>\n",
       "      <td>255</td>\n",
       "      <td>Sydney</td>\n",
       "    </tr>\n",
       "    <tr>\n",
       "      <th>6</th>\n",
       "      <td>3</td>\n",
       "      <td>255</td>\n",
       "      <td>Berlin</td>\n",
       "    </tr>\n",
       "    <tr>\n",
       "      <th>7</th>\n",
       "      <td>13</td>\n",
       "      <td>251</td>\n",
       "      <td>Toronto</td>\n",
       "    </tr>\n",
       "    <tr>\n",
       "      <th>8</th>\n",
       "      <td>8</td>\n",
       "      <td>249</td>\n",
       "      <td>Los Angeles</td>\n",
       "    </tr>\n",
       "    <tr>\n",
       "      <th>9</th>\n",
       "      <td>12</td>\n",
       "      <td>247</td>\n",
       "      <td>Beijing</td>\n",
       "    </tr>\n",
       "    <tr>\n",
       "      <th>10</th>\n",
       "      <td>2</td>\n",
       "      <td>246</td>\n",
       "      <td>Cape Town</td>\n",
       "    </tr>\n",
       "    <tr>\n",
       "      <th>11</th>\n",
       "      <td>10</td>\n",
       "      <td>229</td>\n",
       "      <td>Moscow</td>\n",
       "    </tr>\n",
       "    <tr>\n",
       "      <th>12</th>\n",
       "      <td>4</td>\n",
       "      <td>228</td>\n",
       "      <td>Bangkok</td>\n",
       "    </tr>\n",
       "    <tr>\n",
       "      <th>13</th>\n",
       "      <td>9</td>\n",
       "      <td>225</td>\n",
       "      <td>Mumbai</td>\n",
       "    </tr>\n",
       "    <tr>\n",
       "      <th>14</th>\n",
       "      <td>6</td>\n",
       "      <td>215</td>\n",
       "      <td>São Paulo</td>\n",
       "    </tr>\n",
       "  </tbody>\n",
       "</table>\n",
       "</div>\n",
       "    <div class=\"colab-df-buttons\">\n",
       "\n",
       "  <div class=\"colab-df-container\">\n",
       "    <button class=\"colab-df-convert\" onclick=\"convertToInteractive('df-6f312699-52d0-4d4d-8a28-42934549c57e')\"\n",
       "            title=\"Convert this dataframe to an interactive table.\"\n",
       "            style=\"display:none;\">\n",
       "\n",
       "  <svg xmlns=\"http://www.w3.org/2000/svg\" height=\"24px\" viewBox=\"0 -960 960 960\">\n",
       "    <path d=\"M120-120v-720h720v720H120Zm60-500h600v-160H180v160Zm220 220h160v-160H400v160Zm0 220h160v-160H400v160ZM180-400h160v-160H180v160Zm440 0h160v-160H620v160ZM180-180h160v-160H180v160Zm440 0h160v-160H620v160Z\"/>\n",
       "  </svg>\n",
       "    </button>\n",
       "\n",
       "  <style>\n",
       "    .colab-df-container {\n",
       "      display:flex;\n",
       "      gap: 12px;\n",
       "    }\n",
       "\n",
       "    .colab-df-convert {\n",
       "      background-color: #E8F0FE;\n",
       "      border: none;\n",
       "      border-radius: 50%;\n",
       "      cursor: pointer;\n",
       "      display: none;\n",
       "      fill: #1967D2;\n",
       "      height: 32px;\n",
       "      padding: 0 0 0 0;\n",
       "      width: 32px;\n",
       "    }\n",
       "\n",
       "    .colab-df-convert:hover {\n",
       "      background-color: #E2EBFA;\n",
       "      box-shadow: 0px 1px 2px rgba(60, 64, 67, 0.3), 0px 1px 3px 1px rgba(60, 64, 67, 0.15);\n",
       "      fill: #174EA6;\n",
       "    }\n",
       "\n",
       "    .colab-df-buttons div {\n",
       "      margin-bottom: 4px;\n",
       "    }\n",
       "\n",
       "    [theme=dark] .colab-df-convert {\n",
       "      background-color: #3B4455;\n",
       "      fill: #D2E3FC;\n",
       "    }\n",
       "\n",
       "    [theme=dark] .colab-df-convert:hover {\n",
       "      background-color: #434B5C;\n",
       "      box-shadow: 0px 1px 3px 1px rgba(0, 0, 0, 0.15);\n",
       "      filter: drop-shadow(0px 1px 2px rgba(0, 0, 0, 0.3));\n",
       "      fill: #FFFFFF;\n",
       "    }\n",
       "  </style>\n",
       "\n",
       "    <script>\n",
       "      const buttonEl =\n",
       "        document.querySelector('#df-6f312699-52d0-4d4d-8a28-42934549c57e button.colab-df-convert');\n",
       "      buttonEl.style.display =\n",
       "        google.colab.kernel.accessAllowed ? 'block' : 'none';\n",
       "\n",
       "      async function convertToInteractive(key) {\n",
       "        const element = document.querySelector('#df-6f312699-52d0-4d4d-8a28-42934549c57e');\n",
       "        const dataTable =\n",
       "          await google.colab.kernel.invokeFunction('convertToInteractive',\n",
       "                                                    [key], {});\n",
       "        if (!dataTable) return;\n",
       "\n",
       "        const docLinkHtml = 'Like what you see? Visit the ' +\n",
       "          '<a target=\"_blank\" href=https://colab.research.google.com/notebooks/data_table.ipynb>data table notebook</a>'\n",
       "          + ' to learn more about interactive tables.';\n",
       "        element.innerHTML = '';\n",
       "        dataTable['output_type'] = 'display_data';\n",
       "        await google.colab.output.renderOutput(dataTable, element);\n",
       "        const docLink = document.createElement('div');\n",
       "        docLink.innerHTML = docLinkHtml;\n",
       "        element.appendChild(docLink);\n",
       "      }\n",
       "    </script>\n",
       "  </div>\n",
       "\n",
       "\n",
       "<div id=\"df-a71f78e9-28ea-4c62-8171-b938bd6c1324\">\n",
       "  <button class=\"colab-df-quickchart\" onclick=\"quickchart('df-a71f78e9-28ea-4c62-8171-b938bd6c1324')\"\n",
       "            title=\"Suggest charts\"\n",
       "            style=\"display:none;\">\n",
       "\n",
       "<svg xmlns=\"http://www.w3.org/2000/svg\" height=\"24px\"viewBox=\"0 0 24 24\"\n",
       "     width=\"24px\">\n",
       "    <g>\n",
       "        <path d=\"M19 3H5c-1.1 0-2 .9-2 2v14c0 1.1.9 2 2 2h14c1.1 0 2-.9 2-2V5c0-1.1-.9-2-2-2zM9 17H7v-7h2v7zm4 0h-2V7h2v10zm4 0h-2v-4h2v4z\"/>\n",
       "    </g>\n",
       "</svg>\n",
       "  </button>\n",
       "\n",
       "<style>\n",
       "  .colab-df-quickchart {\n",
       "      --bg-color: #E8F0FE;\n",
       "      --fill-color: #1967D2;\n",
       "      --hover-bg-color: #E2EBFA;\n",
       "      --hover-fill-color: #174EA6;\n",
       "      --disabled-fill-color: #AAA;\n",
       "      --disabled-bg-color: #DDD;\n",
       "  }\n",
       "\n",
       "  [theme=dark] .colab-df-quickchart {\n",
       "      --bg-color: #3B4455;\n",
       "      --fill-color: #D2E3FC;\n",
       "      --hover-bg-color: #434B5C;\n",
       "      --hover-fill-color: #FFFFFF;\n",
       "      --disabled-bg-color: #3B4455;\n",
       "      --disabled-fill-color: #666;\n",
       "  }\n",
       "\n",
       "  .colab-df-quickchart {\n",
       "    background-color: var(--bg-color);\n",
       "    border: none;\n",
       "    border-radius: 50%;\n",
       "    cursor: pointer;\n",
       "    display: none;\n",
       "    fill: var(--fill-color);\n",
       "    height: 32px;\n",
       "    padding: 0;\n",
       "    width: 32px;\n",
       "  }\n",
       "\n",
       "  .colab-df-quickchart:hover {\n",
       "    background-color: var(--hover-bg-color);\n",
       "    box-shadow: 0 1px 2px rgba(60, 64, 67, 0.3), 0 1px 3px 1px rgba(60, 64, 67, 0.15);\n",
       "    fill: var(--button-hover-fill-color);\n",
       "  }\n",
       "\n",
       "  .colab-df-quickchart-complete:disabled,\n",
       "  .colab-df-quickchart-complete:disabled:hover {\n",
       "    background-color: var(--disabled-bg-color);\n",
       "    fill: var(--disabled-fill-color);\n",
       "    box-shadow: none;\n",
       "  }\n",
       "\n",
       "  .colab-df-spinner {\n",
       "    border: 2px solid var(--fill-color);\n",
       "    border-color: transparent;\n",
       "    border-bottom-color: var(--fill-color);\n",
       "    animation:\n",
       "      spin 1s steps(1) infinite;\n",
       "  }\n",
       "\n",
       "  @keyframes spin {\n",
       "    0% {\n",
       "      border-color: transparent;\n",
       "      border-bottom-color: var(--fill-color);\n",
       "      border-left-color: var(--fill-color);\n",
       "    }\n",
       "    20% {\n",
       "      border-color: transparent;\n",
       "      border-left-color: var(--fill-color);\n",
       "      border-top-color: var(--fill-color);\n",
       "    }\n",
       "    30% {\n",
       "      border-color: transparent;\n",
       "      border-left-color: var(--fill-color);\n",
       "      border-top-color: var(--fill-color);\n",
       "      border-right-color: var(--fill-color);\n",
       "    }\n",
       "    40% {\n",
       "      border-color: transparent;\n",
       "      border-right-color: var(--fill-color);\n",
       "      border-top-color: var(--fill-color);\n",
       "    }\n",
       "    60% {\n",
       "      border-color: transparent;\n",
       "      border-right-color: var(--fill-color);\n",
       "    }\n",
       "    80% {\n",
       "      border-color: transparent;\n",
       "      border-right-color: var(--fill-color);\n",
       "      border-bottom-color: var(--fill-color);\n",
       "    }\n",
       "    90% {\n",
       "      border-color: transparent;\n",
       "      border-bottom-color: var(--fill-color);\n",
       "    }\n",
       "  }\n",
       "</style>\n",
       "\n",
       "  <script>\n",
       "    async function quickchart(key) {\n",
       "      const quickchartButtonEl =\n",
       "        document.querySelector('#' + key + ' button');\n",
       "      quickchartButtonEl.disabled = true;  // To prevent multiple clicks.\n",
       "      quickchartButtonEl.classList.add('colab-df-spinner');\n",
       "      try {\n",
       "        const charts = await google.colab.kernel.invokeFunction(\n",
       "            'suggestCharts', [key], {});\n",
       "      } catch (error) {\n",
       "        console.error('Error during call to suggestCharts:', error);\n",
       "      }\n",
       "      quickchartButtonEl.classList.remove('colab-df-spinner');\n",
       "      quickchartButtonEl.classList.add('colab-df-quickchart-complete');\n",
       "    }\n",
       "    (() => {\n",
       "      let quickchartButtonEl =\n",
       "        document.querySelector('#df-a71f78e9-28ea-4c62-8171-b938bd6c1324 button');\n",
       "      quickchartButtonEl.style.display =\n",
       "        google.colab.kernel.accessAllowed ? 'block' : 'none';\n",
       "    })();\n",
       "  </script>\n",
       "</div>\n",
       "\n",
       "  <div id=\"id_4aaadf88-1199-48ea-b555-c24580d2d10d\">\n",
       "    <style>\n",
       "      .colab-df-generate {\n",
       "        background-color: #E8F0FE;\n",
       "        border: none;\n",
       "        border-radius: 50%;\n",
       "        cursor: pointer;\n",
       "        display: none;\n",
       "        fill: #1967D2;\n",
       "        height: 32px;\n",
       "        padding: 0 0 0 0;\n",
       "        width: 32px;\n",
       "      }\n",
       "\n",
       "      .colab-df-generate:hover {\n",
       "        background-color: #E2EBFA;\n",
       "        box-shadow: 0px 1px 2px rgba(60, 64, 67, 0.3), 0px 1px 3px 1px rgba(60, 64, 67, 0.15);\n",
       "        fill: #174EA6;\n",
       "      }\n",
       "\n",
       "      [theme=dark] .colab-df-generate {\n",
       "        background-color: #3B4455;\n",
       "        fill: #D2E3FC;\n",
       "      }\n",
       "\n",
       "      [theme=dark] .colab-df-generate:hover {\n",
       "        background-color: #434B5C;\n",
       "        box-shadow: 0px 1px 3px 1px rgba(0, 0, 0, 0.15);\n",
       "        filter: drop-shadow(0px 1px 2px rgba(0, 0, 0, 0.3));\n",
       "        fill: #FFFFFF;\n",
       "      }\n",
       "    </style>\n",
       "    <button class=\"colab-df-generate\" onclick=\"generateWithVariable('demand_cluster_counts')\"\n",
       "            title=\"Generate code using this dataframe.\"\n",
       "            style=\"display:none;\">\n",
       "\n",
       "  <svg xmlns=\"http://www.w3.org/2000/svg\" height=\"24px\"viewBox=\"0 0 24 24\"\n",
       "       width=\"24px\">\n",
       "    <path d=\"M7,19H8.4L18.45,9,17,7.55,7,17.6ZM5,21V16.75L18.45,3.32a2,2,0,0,1,2.83,0l1.4,1.43a1.91,1.91,0,0,1,.58,1.4,1.91,1.91,0,0,1-.58,1.4L9.25,21ZM18.45,9,17,7.55Zm-12,3A5.31,5.31,0,0,0,4.9,8.1,5.31,5.31,0,0,0,1,6.5,5.31,5.31,0,0,0,4.9,4.9,5.31,5.31,0,0,0,6.5,1,5.31,5.31,0,0,0,8.1,4.9,5.31,5.31,0,0,0,12,6.5,5.46,5.46,0,0,0,6.5,12Z\"/>\n",
       "  </svg>\n",
       "    </button>\n",
       "    <script>\n",
       "      (() => {\n",
       "      const buttonEl =\n",
       "        document.querySelector('#id_4aaadf88-1199-48ea-b555-c24580d2d10d button.colab-df-generate');\n",
       "      buttonEl.style.display =\n",
       "        google.colab.kernel.accessAllowed ? 'block' : 'none';\n",
       "\n",
       "      buttonEl.onclick = () => {\n",
       "        google.colab.notebook.generateWithVariable('demand_cluster_counts');\n",
       "      }\n",
       "      })();\n",
       "    </script>\n",
       "  </div>\n",
       "\n",
       "    </div>\n",
       "  </div>\n"
      ],
      "text/plain": [
       "    demand_cluster  station_count           city\n",
       "0               11            288          Dubai\n",
       "1                5            277    Mexico City\n",
       "2                1            274          Seoul\n",
       "3                0            270        Chicago\n",
       "4               14            261  San Francisco\n",
       "5                7            255         Sydney\n",
       "6                3            255         Berlin\n",
       "7               13            251        Toronto\n",
       "8                8            249    Los Angeles\n",
       "9               12            247        Beijing\n",
       "10               2            246      Cape Town\n",
       "11              10            229         Moscow\n",
       "12               4            228        Bangkok\n",
       "13               9            225         Mumbai\n",
       "14               6            215      São Paulo"
      ]
     },
     "execution_count": 42,
     "metadata": {},
     "output_type": "execute_result"
    }
   ],
   "source": [
    "# Defining the mapping based on the provided data\n",
    "cluster_to_city = {\n",
    "    0: \"Chicago\",\n",
    "    1: \"Seoul\",\n",
    "    2: \"Cape Town\",\n",
    "    3: \"Berlin\",\n",
    "    4: \"Bangkok\",\n",
    "    5: \"Mexico City\",\n",
    "    6: \"São Paulo\",\n",
    "    7: \"Sydney\",\n",
    "    8: \"Los Angeles\",\n",
    "    9: \"Mumbai\",\n",
    "    10: \"Moscow\",\n",
    "    11: \"Dubai\",\n",
    "    12: \"Beijing\",\n",
    "    13: \"Toronto\",\n",
    "    14: \"San Francisco\"\n",
    "}\n",
    "\n",
    "# Countting stations per demand cluster\n",
    "demand_cluster_counts = df_cleaned[\"demand_cluster\"].value_counts().reset_index()\n",
    "demand_cluster_counts.columns = [\"demand_cluster\", \"station_count\"]\n",
    "demand_cluster_counts[\"city\"] = demand_cluster_counts[\"demand_cluster\"].map(cluster_to_city)\n",
    "\n",
    "# Displaying results\n",
    "demand_cluster_counts\n"
   ]
  },
  {
   "cell_type": "code",
   "execution_count": null,
   "id": "917555f7",
   "metadata": {
    "colab": {
     "base_uri": "https://localhost:8080/",
     "height": 689
    },
    "id": "ja7IZ9D38cAB",
    "outputId": "a23aa00e-f235-48e3-bca8-f2b37bdb7140"
   },
   "outputs": [
    {
     "data": {
      "image/png": "[encoded data removed]",
      "text/plain": [
       "<Figure size 1200x600 with 1 Axes>"
      ]
     },
     "metadata": {},
     "output_type": "display_data"
    }
   ],
   "source": [
    "import matplotlib.pyplot as plt\n",
    "\n",
    "# Ensuring the data is sorted for correct visualization\n",
    "demand_cluster_counts = demand_cluster_counts.sort_values(by=\"station_count\", ascending=False)\n",
    "\n",
    "# Creating formatted labels for the x-axis\n",
    "demand_cluster_counts[\"label\"] = demand_cluster_counts.apply(lambda row: f\"Cluster {row['demand_cluster']} ({row['city']})\", axis=1)\n",
    "\n",
    "# Plotting\n",
    "plt.figure(figsize=(12, 6))\n",
    "plt.bar(demand_cluster_counts[\"label\"], demand_cluster_counts[\"station_count\"], color=plt.cm.viridis_r(range(len(demand_cluster_counts))))\n",
    "\n",
    "plt.xticks(rotation=45, ha=\"right\")\n",
    "plt.xlabel(\"Demand Cluster (City)\")\n",
    "plt.ylabel(\"Number of Charging Stations\")\n",
    "plt.title(\"Demand Cluster Distribution by City\")\n",
    "plt.grid(axis=\"y\", linestyle=\"--\", alpha=0.7)\n",
    "plt.show()\n"
   ]
  },
  {
   "cell_type": "markdown",
   "id": "12d20378",
   "metadata": {
    "id": "BO6WkBDAuRQz"
   },
   "source": [
    "## 6.8 Train an XGBoost Classifier"
   ]
  },
  {
   "cell_type": "code",
   "execution_count": null,
   "id": "9ba5aa3b",
   "metadata": {
    "colab": {
     "base_uri": "https://localhost:8080/"
    },
    "id": "5r_QAsbfsGEn",
    "outputId": "7454a1a2-0bda-4527-dba3-15cbae661dcb"
   },
   "outputs": [
    {
     "name": "stdout",
     "output_type": "stream",
     "text": [
      "\n",
      "XGBoost Classification Performance:\n",
      "Accuracy: 0.5239\n",
      "\n",
      "Classification Report:\n",
      "               precision    recall  f1-score   support\n",
      "\n",
      "           0       0.59      0.82      0.69        56\n",
      "           1       0.55      0.58      0.56        52\n",
      "           2       0.52      0.47      0.49        49\n",
      "           3       0.49      0.60      0.54        47\n",
      "           4       0.51      0.35      0.41        52\n",
      "           5       0.34      0.40      0.37        48\n",
      "           6       0.42      0.41      0.42        41\n",
      "           7       0.52      0.29      0.38        51\n",
      "           8       0.50      0.69      0.58        42\n",
      "           9       0.45      0.57      0.50        37\n",
      "          10       0.47      0.37      0.41        49\n",
      "          11       0.63      0.79      0.70        58\n",
      "          12       0.44      0.53      0.48        47\n",
      "          13       0.77      0.44      0.56        68\n",
      "          14       0.62      0.53      0.57        57\n",
      "\n",
      "    accuracy                           0.52       754\n",
      "   macro avg       0.52      0.52      0.51       754\n",
      "weighted avg       0.53      0.52      0.52       754\n",
      "\n"
     ]
    }
   ],
   "source": [
    "from xgboost import XGBClassifier\n",
    "from sklearn.metrics import accuracy_score, classification_report\n",
    "\n",
    "# Trainn9gn an XGBoost Classifier\n",
    "xgb_classifier = XGBClassifier(n_estimators=100, learning_rate=0.05, max_depth=6, random_state=42)\n",
    "xgb_classifier.fit(X_train_class, y_train_class)\n",
    "\n",
    "# Predictions\n",
    "y_pred_xgb = xgb_classifier.predict(X_test_class)\n",
    "\n",
    "# Model Evaluation\n",
    "accuracy_xgb = accuracy_score(y_test_class, y_pred_xgb)\n",
    "print(\"\\nXGBoost Classification Performance:\")\n",
    "print(f\"Accuracy: {accuracy_xgb:.4f}\")\n",
    "print(\"\\nClassification Report:\\n\", classification_report(y_test_class, y_pred_xgb))\n"
   ]
  },
  {
   "cell_type": "markdown",
   "id": "b9508edd",
   "metadata": {
    "id": "KYX5HFhLuZRa"
   },
   "source": [
    "## 6.9 Tuning XGBoost using GridSearchCV"
   ]
  },
  {
   "cell_type": "code",
   "execution_count": null,
   "id": "fd12465a",
   "metadata": {
    "colab": {
     "base_uri": "https://localhost:8080/"
    },
    "id": "Gy0orwfSsrLL",
    "outputId": "9d482900-96a2-4baa-9131-e75a6bca98ea"
   },
   "outputs": [
    {
     "name": "stdout",
     "output_type": "stream",
     "text": [
      "Best Parameters: {'learning_rate': 0.01, 'max_depth': 3, 'n_estimators': 50}\n",
      "\n",
      "Tuned XGBoost Accuracy: 0.4854\n"
     ]
    }
   ],
   "source": [
    "from sklearn.model_selection import GridSearchCV\n",
    "from xgboost import XGBClassifier\n",
    "\n",
    "# Definiung hyperparameter grid for tuning\n",
    "param_grid = {\n",
    "    'n_estimators': [50, 100, 200, 300],  # Testing different values\n",
    "    'learning_rate': [0.01, 0.1, 0.2],\n",
    "    'max_depth': [3, 5, 7]\n",
    "}\n",
    "\n",
    "# Performming Grid SearchCV\n",
    "grid_search = GridSearchCV(XGBClassifier(random_state=42), param_grid, cv=3, scoring='accuracy', n_jobs=-1)\n",
    "grid_search.fit(X_train_class, y_train_class)\n",
    "\n",
    "# Getting the best parameters\n",
    "best_params = grid_search.best_params_\n",
    "print(f\"Best Parameters: {best_params}\")\n",
    "\n",
    "# Trainning the best model\n",
    "best_xgb_model = XGBClassifier(**best_params, random_state=42)\n",
    "best_xgb_model.fit(X_train_class, y_train_class)\n",
    "\n",
    "# Evaluating the tuned model\n",
    "y_pred_best_xgb = best_xgb_model.predict(X_test_class)\n",
    "accuracy_best_xgb = accuracy_score(y_test_class, y_pred_best_xgb)\n",
    "\n",
    "print(f\"\\nTuned XGBoost Accuracy: {accuracy_best_xgb:.4f}\")\n"
   ]
  }
 ],
 "metadata": {},
 "nbformat": 4,
 "nbformat_minor": 5
}
